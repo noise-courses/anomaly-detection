{
 "cells": [
  {
   "cell_type": "markdown",
   "id": "642ce185",
   "metadata": {},
   "source": [
    "# Anomaly Detection with Unsupervised Learning\n",
    "\n",
    "In this asssignment, you will use `netml` to perform unsupervised learning on a dataset that contains attack traffic. Unsupervised learning refers to the process where models are trained without training or \"supervision\". They can be used to detect structure in data, including the process of detecting outliers.\n",
    "\n",
    "In the below examples, an OCSVM model is trained by demo traffic included in the library, and tested by labels in a CSV file, (both provided by the University of New Brunswick's Intrusion Detection Systems dataset).\n",
    "\n",
    "## Part 1: Warmup"
   ]
  },
  {
   "cell_type": "code",
   "execution_count": 6,
   "id": "8b71ec3e",
   "metadata": {},
   "outputs": [
    {
     "name": "stdout",
     "output_type": "stream",
     "text": [
      "'_pcap2flows()' starts at 2022-11-17 09:56:16\n",
      "'_pcap2flows()' ends at 2022-11-17 09:56:17 and takes 0.024 mins.\n",
      "'_label_flows()' starts at 2022-11-17 09:56:17\n",
      "'_label_flows()' ends at 2022-11-17 09:56:18 and takes 0.0073 mins.\n",
      "'_flow2features()' starts at 2022-11-17 09:56:18\n",
      "'_flow2features()' ends at 2022-11-17 09:56:18 and takes 0.0 mins.\n",
      "'_train()' starts at 2022-11-17 09:56:18\n",
      "'_train()' ends at 2022-11-17 09:56:18 and takes 0.0 mins.\n",
      "'_test()' starts at 2022-11-17 09:56:18\n",
      "'_test()' ends at 2022-11-17 09:56:18 and takes 0.0 mins.\n",
      "0.0 0.0 0.632\n"
     ]
    }
   ],
   "source": [
    "from sklearn.model_selection import train_test_split\n",
    "\n",
    "from netml.ndm.model import MODEL\n",
    "from netml.ndm.ocsvm import OCSVM\n",
    "from netml.pparser.parser import PCAP\n",
    "\n",
    "RANDOM_STATE = 42\n",
    "\n",
    "pcap = PCAP(\n",
    "    'data/demo/demo.pcap',\n",
    "    flow_ptks_thres=2,\n",
    "    random_state=42,\n",
    "    verbose=0,\n",
    ")\n",
    "\n",
    "# extract flows from pcap\n",
    "pcap.pcap2flows(q_interval=0.9)\n",
    "\n",
    "# label each flow (optional)\n",
    "pcap.label_flows(label_file='data/demo/demo.csv')\n",
    "\n",
    "# extract features from each flow via IAT\n",
    "pcap.flow2features('IAT', fft=False, header=False)\n",
    "\n",
    "# load data\n",
    "(features, labels) = (pcap.features,\n",
    "                      pcap.labels)\n",
    "\n",
    "# split train and test sets\n",
    "(\n",
    "    features_train,\n",
    "    features_test,\n",
    "    labels_train,\n",
    "    labels_test,\n",
    ") = train_test_split(features, labels, test_size=0.33, random_state=RANDOM_STATE)\n",
    "\n",
    "# create detection model\n",
    "ocsvm = OCSVM(kernel='rbf', nu=0.5, random_state=RANDOM_STATE)\n",
    "ocsvm.name = 'OCSVM'\n",
    "ndm = MODEL(ocsvm, score_metric='auc', verbose=0, random_state=RANDOM_STATE)\n",
    "\n",
    "# train the model from the train set\n",
    "ndm.train(features_train)\n",
    "\n",
    "# evaluate the trained model\n",
    "ndm.test(features_test, labels_test)\n",
    "\n",
    "# stats\n",
    "print(ndm.train.tot_time, ndm.test.tot_time, ndm.score)"
   ]
  },
  {
   "cell_type": "markdown",
   "id": "a418e771",
   "metadata": {},
   "source": [
    "## Part 2: Explore Other Anomaly Detection Models\n",
    "\n",
    "The `netml` library supports a number of anomaly detection models, including:\n",
    "\n",
    "* Autoencoder\n",
    "* Gaussian Mixture Model\n",
    "* Independent Forest\n",
    "* Kernel Density Estimation\n",
    "* One-Class SVM (OCSVM) (as shown above)\n",
    "* Principal Compoenent Analysis\n",
    "\n",
    "Try the above example on two (or more) of the following models. Which tend to perform better?"
   ]
  },
  {
   "cell_type": "markdown",
   "id": "bcfc5218",
   "metadata": {},
   "source": [
    "## Part 3: Anomaly Detection for Activity Detection\n",
    "\n",
    "Now that you have some basic experience with using the `netml` library for anomaly detection, your assignment is to apply anomaly detection on a different dataset and problem: activity detection.\n",
    "\n",
    "When users interact with smart home devices in a connected home setting, these devices may generate traffic that differs from idle behavior (e.g., an increase in traffic volume).  Your task is to train anomaly detection models to distinguish *idle* traffic from *device interaction*. We have provided two traces from an Amazon Echo device: \n",
    "\n",
    "* An idle trace (\"normal\")\n",
    "* A trace where a user plays music (\"anomaly\")\n",
    "\n",
    "Your task will be to:\n",
    "\n",
    "1. Use netml to construct flows from these traces\n",
    "2. Use netml to label the flows (you will probably have to override the label_flows function)\n",
    "3. Evaluate one more more anomaly detection models to detect activity."
   ]
  },
  {
   "cell_type": "markdown",
   "id": "18294046",
   "metadata": {},
   "source": [
    "## Part 3.1: Construct the Flows\n",
    "\n",
    "Construct flows from the provided pcaps which involve (1) no interaction; (2) playing music with the device. There are multiple samples for each class, so you will need to manipulate the data so that you can train your model with it. Probably the easiest way to do this would be to concatenate the pcaps for each class and then load them into the `netml` pcap class, but there are presumably other ways to do this."
   ]
  },
  {
   "cell_type": "code",
   "execution_count": null,
   "id": "9af86e1f",
   "metadata": {},
   "outputs": [],
   "source": []
  },
  {
   "cell_type": "markdown",
   "id": "bfaee142",
   "metadata": {},
   "source": [
    "## Part 3.2: Label the Flows\n",
    "\n",
    "You might consider using `netml` to label your flows. To do so, you will have to generate some kind of label file (`netml` has a label_flows function that you might consider overriding)."
   ]
  },
  {
   "cell_type": "code",
   "execution_count": null,
   "id": "0cfdbd84",
   "metadata": {},
   "outputs": [],
   "source": []
  },
  {
   "cell_type": "markdown",
   "id": "0db78505",
   "metadata": {},
   "source": [
    "## Part 3.3: Train and Evaluate a Model\n",
    "\n",
    "Select one of the unsupervised models in the `netml` library and train and evaluate your model to detect interactions with the Alexa device (vs. idle traffic)."
   ]
  },
  {
   "cell_type": "code",
   "execution_count": null,
   "id": "45252244",
   "metadata": {},
   "outputs": [],
   "source": []
  }
 ],
 "metadata": {
  "kernelspec": {
   "display_name": "Python 3 (ipykernel)",
   "language": "python",
   "name": "python3"
  },
  "language_info": {
   "codemirror_mode": {
    "name": "ipython",
    "version": 3
   },
   "file_extension": ".py",
   "mimetype": "text/x-python",
   "name": "python",
   "nbconvert_exporter": "python",
   "pygments_lexer": "ipython3",
   "version": "3.10.8"
  }
 },
 "nbformat": 4,
 "nbformat_minor": 5
}
